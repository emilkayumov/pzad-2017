{
 "cells": [
  {
   "cell_type": "markdown",
   "metadata": {},
   "source": [
    "# Планирование продаж компании ascott group"
   ]
  },
  {
   "cell_type": "code",
   "execution_count": null,
   "metadata": {},
   "outputs": [],
   "source": [
    "%pylab inline\n",
    "import pandas as pd\n",
    "import catboost"
   ]
  },
  {
   "cell_type": "markdown",
   "metadata": {},
   "source": [
    "Загружаем данные:"
   ]
  },
  {
   "cell_type": "code",
   "execution_count": null,
   "metadata": {},
   "outputs": [],
   "source": [
    "train_weeks = pd.read_csv('../input/train_set_weeks.csv')\n",
    "train_days = pd.read_csv('../input/train_set_days.csv')\n",
    "train_sfa = pd.read_csv('../input/train_set_sfa.csv')\n",
    "\n",
    "info_business = pd.read_csv('../input/info_business_points.csv')\n",
    "info_groups = pd.read_csv('../input/info_groups.csv')\n",
    "info_items = pd.read_csv('../input/info_items.csv')\n",
    "\n",
    "test_weeks = pd.read_csv('../input/test_set_weeks.csv')"
   ]
  },
  {
   "cell_type": "code",
   "execution_count": null,
   "metadata": {},
   "outputs": [],
   "source": [
    "train_target = train_weeks.value\n",
    "train_weeks.drop(['value', 'id', 'wk'], axis=1, inplace=True)"
   ]
  },
  {
   "cell_type": "markdown",
   "metadata": {},
   "source": [
    "Добавляем признак:"
   ]
  },
  {
   "cell_type": "code",
   "execution_count": null,
   "metadata": {},
   "outputs": [],
   "source": [
    "train_weeks['idGrp'] = train_weeks.idSubGrp.map(info_groups.groupby('idSubGrp')['idGrp'].first())\n",
    "test_weeks['idGrp'] = test_weeks.idSubGrp.map(info_groups.groupby('idSubGrp')['idGrp'].first())"
   ]
  },
  {
   "cell_type": "markdown",
   "metadata": {},
   "source": [
    "Обучаем модель (все признаки кроме недели подаём в Катбуст как категориальные):"
   ]
  },
  {
   "cell_type": "code",
   "execution_count": null,
   "metadata": {
    "scrolled": true
   },
   "outputs": [],
   "source": [
    "regressor = catboost.CatBoostRegressor(depth=6, random_seed=123, iterations=500, has_time=True)\n",
    "regressor.fit(train_weeks, train_target, cat_features=[1, 2, 3, 4])"
   ]
  },
  {
   "cell_type": "code",
   "execution_count": null,
   "metadata": {},
   "outputs": [],
   "source": [
    "test_weeks.to_csv('../output/submission.csv', index=False)"
   ]
  }
 ],
 "metadata": {
  "kernelspec": {
   "display_name": "py36",
   "language": "python",
   "name": "py36"
  },
  "language_info": {
   "codemirror_mode": {
    "name": "ipython",
    "version": 3
   },
   "file_extension": ".py",
   "mimetype": "text/x-python",
   "name": "python",
   "nbconvert_exporter": "python",
   "pygments_lexer": "ipython3",
   "version": "3.6.1"
  }
 },
 "nbformat": 4,
 "nbformat_minor": 2
}
